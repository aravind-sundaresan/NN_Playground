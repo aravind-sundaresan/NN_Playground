{
 "cells": [
  {
   "cell_type": "code",
   "execution_count": 52,
   "metadata": {
    "collapsed": true
   },
   "outputs": [],
   "source": [
    "import numpy as np\n",
    "import matplotlib.pyplot as plt\n",
    "from keras.datasets import mnist\n",
    "from keras.models import Sequential\n",
    "from keras.layers import Dense, Dropout\n",
    "from keras.utils import np_utils\n",
    "\n",
    "import matplotlib.pyplot as plt"
   ]
  },
  {
   "cell_type": "code",
   "execution_count": 8,
   "metadata": {
    "collapsed": true
   },
   "outputs": [],
   "source": [
    "# Fix random seed for reproducibility\n",
    "seed = 7\n",
    "np.random.seed(seed)"
   ]
  },
  {
   "cell_type": "code",
   "execution_count": 16,
   "metadata": {
    "collapsed": true
   },
   "outputs": [],
   "source": [
    "# Loading data\n",
    "(X_train, y_train), (X_test, y_test) = mnist.load_data()"
   ]
  },
  {
   "cell_type": "code",
   "execution_count": 12,
   "metadata": {},
   "outputs": [
    {
     "data": {
      "image/png": "[encoded data removed]",
      "text/plain": [
       "<matplotlib.figure.Figure at 0x11e7eb320>"
      ]
     },
     "metadata": {},
     "output_type": "display_data"
    }
   ],
   "source": [
    "# plot 4 images as gray scale\n",
    "plt.subplot(221)\n",
    "plt.imshow(X_train[0], cmap=plt.get_cmap('gray'))\n",
    "plt.subplot(222)\n",
    "plt.imshow(X_train[1], cmap=plt.get_cmap('gray'))\n",
    "plt.subplot(223)\n",
    "plt.imshow(X_train[2], cmap=plt.get_cmap('gray'))\n",
    "plt.subplot(224)\n",
    "plt.imshow(X_train[3], cmap=plt.get_cmap('gray'))\n",
    "# show the plot\n",
    "plt.show()"
   ]
  },
  {
   "cell_type": "code",
   "execution_count": 17,
   "metadata": {},
   "outputs": [
    {
     "data": {
      "text/plain": [
       "(60000, 28, 28)"
      ]
     },
     "execution_count": 17,
     "metadata": {},
     "output_type": "execute_result"
    }
   ],
   "source": [
    "X_train.shape"
   ]
  },
  {
   "cell_type": "code",
   "execution_count": 18,
   "metadata": {
    "collapsed": true
   },
   "outputs": [],
   "source": [
    "# flatten the images to a vector\n",
    "X_train = X_train.reshape(X_train.shape[0], X_train.shape[1] * X_train.shape[2]).astype('float32')\n",
    "X_test = X_test.reshape(X_test.shape[0], X_test.shape[1] * X_test.shape[2]).astype('float32')"
   ]
  },
  {
   "cell_type": "code",
   "execution_count": 21,
   "metadata": {
    "collapsed": true
   },
   "outputs": [],
   "source": [
    "# normalizing the input values\n",
    "X_train = X_train / 255\n",
    "X_test = X_test / 255"
   ]
  },
  {
   "cell_type": "code",
   "execution_count": 28,
   "metadata": {
    "collapsed": true
   },
   "outputs": [],
   "source": [
    "# one hot encoding the output values\n",
    "y_train = np_utils.to_categorical(y_train)\n",
    "y_test = np_utils.to_categorical(y_test)"
   ]
  },
  {
   "cell_type": "code",
   "execution_count": 32,
   "metadata": {},
   "outputs": [
    {
     "data": {
      "text/plain": [
       "array([ 1.,  0.,  0.,  0.,  0.,  0.,  0.,  0.,  0.,  0.])"
      ]
     },
     "execution_count": 32,
     "metadata": {},
     "output_type": "execute_result"
    }
   ],
   "source": [
    "y_train[1]"
   ]
  },
  {
   "cell_type": "code",
   "execution_count": 37,
   "metadata": {
    "collapsed": true
   },
   "outputs": [],
   "source": [
    "num_pixels = X_train.shape[1]\n",
    "num_classes = y_train.shape[1]"
   ]
  },
  {
   "cell_type": "code",
   "execution_count": 40,
   "metadata": {
    "collapsed": true
   },
   "outputs": [],
   "source": [
    "def baseline_model():\n",
    "    # create model\n",
    "    model = Sequential()\n",
    "    model.add(Dense(num_pixels, input_dim=num_pixels, kernel_initializer='normal', activation='relu'))\n",
    "    model.add(Dense(num_classes, kernel_initializer='normal', activation='softmax'))\n",
    "    \n",
    "    # compile the model\n",
    "    model.compile(loss='categorical_crossentropy', optimizer='adam', metrics=['accuracy'])\n",
    "    return model"
   ]
  },
  {
   "cell_type": "code",
   "execution_count": 54,
   "metadata": {},
   "outputs": [
    {
     "name": "stdout",
     "output_type": "stream",
     "text": [
      "Train on 60000 samples, validate on 10000 samples\n",
      "Epoch 1/20\n",
      " - 5s - loss: 0.2809 - acc: 0.9209 - val_loss: 0.1458 - val_acc: 0.9563\n",
      "Epoch 2/20\n",
      " - 5s - loss: 0.1110 - acc: 0.9682 - val_loss: 0.0949 - val_acc: 0.9693\n",
      "Epoch 3/20\n",
      " - 5s - loss: 0.0701 - acc: 0.9798 - val_loss: 0.0826 - val_acc: 0.9752\n",
      "Epoch 4/20\n",
      " - 5s - loss: 0.0494 - acc: 0.9858 - val_loss: 0.0683 - val_acc: 0.9781\n",
      "Epoch 5/20\n",
      " - 5s - loss: 0.0358 - acc: 0.9899 - val_loss: 0.0667 - val_acc: 0.9793\n",
      "Epoch 6/20\n",
      " - 5s - loss: 0.0265 - acc: 0.9925 - val_loss: 0.0665 - val_acc: 0.9796\n",
      "Epoch 7/20\n",
      " - 5s - loss: 0.0199 - acc: 0.9951 - val_loss: 0.0657 - val_acc: 0.9795\n",
      "Epoch 8/20\n",
      " - 5s - loss: 0.0140 - acc: 0.9967 - val_loss: 0.0581 - val_acc: 0.9827\n",
      "Epoch 9/20\n",
      " - 5s - loss: 0.0104 - acc: 0.9978 - val_loss: 0.0624 - val_acc: 0.9817\n",
      "Epoch 10/20\n",
      " - 5s - loss: 0.0079 - acc: 0.9985 - val_loss: 0.0655 - val_acc: 0.9808\n",
      "Epoch 11/20\n",
      " - 5s - loss: 0.0067 - acc: 0.9989 - val_loss: 0.0652 - val_acc: 0.9817\n",
      "Epoch 12/20\n",
      " - 5s - loss: 0.0053 - acc: 0.9991 - val_loss: 0.0626 - val_acc: 0.9816\n",
      "Epoch 13/20\n",
      " - 5s - loss: 0.0038 - acc: 0.9995 - val_loss: 0.0632 - val_acc: 0.9823\n",
      "Epoch 14/20\n",
      " - 5s - loss: 0.0028 - acc: 0.9997 - val_loss: 0.0625 - val_acc: 0.9837\n",
      "Epoch 15/20\n",
      " - 5s - loss: 0.0030 - acc: 0.9997 - val_loss: 0.0697 - val_acc: 0.9818\n",
      "Epoch 16/20\n",
      " - 5s - loss: 0.0076 - acc: 0.9979 - val_loss: 0.0843 - val_acc: 0.9782\n",
      "Epoch 17/20\n",
      " - 5s - loss: 0.0116 - acc: 0.9961 - val_loss: 0.0774 - val_acc: 0.9798\n",
      "Epoch 18/20\n",
      " - 5s - loss: 0.0061 - acc: 0.9982 - val_loss: 0.0767 - val_acc: 0.9818\n",
      "Epoch 19/20\n",
      " - 5s - loss: 0.0017 - acc: 0.9998 - val_loss: 0.0617 - val_acc: 0.9851\n",
      "Epoch 20/20\n",
      " - 5s - loss: 5.1816e-04 - acc: 1.0000 - val_loss: 0.0645 - val_acc: 0.9848\n"
     ]
    },
    {
     "data": {
      "text/plain": [
       "<keras.callbacks.History at 0x122a0b668>"
      ]
     },
     "execution_count": 54,
     "metadata": {},
     "output_type": "execute_result"
    }
   ],
   "source": [
    "# build the model\n",
    "model = baseline_model()\n",
    "\n",
    "# fit the model\n",
    "model.fit(X_train, y_train, validation_data=(X_test, y_test), epochs=20, batch_size=200, verbose=2)"
   ]
  },
  {
   "cell_type": "code",
   "execution_count": 57,
   "metadata": {},
   "outputs": [
    {
     "name": "stdout",
     "output_type": "stream",
     "text": [
      "Accuracy = 98.48%\n"
     ]
    }
   ],
   "source": [
    "# evaluation of the model\n",
    "scores = model.evaluate(X_test, y_test, verbose=0)\n",
    "\n",
    "print(\"Accuracy = %.2f%%\" % (scores[1] * 100))"
   ]
  }
 ],
 "metadata": {
  "kernelspec": {
   "display_name": "Python 3",
   "language": "python",
   "name": "python3"
  },
  "language_info": {
   "codemirror_mode": {
    "name": "ipython",
    "version": 3
   },
   "file_extension": ".py",
   "mimetype": "text/x-python",
   "name": "python",
   "nbconvert_exporter": "python",
   "pygments_lexer": "ipython3",
   "version": "3.6.3"
  }
 },
 "nbformat": 4,
 "nbformat_minor": 2
}
